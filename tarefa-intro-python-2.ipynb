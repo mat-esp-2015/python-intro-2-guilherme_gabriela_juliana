{
 "cells": [
  {
   "cell_type": "markdown",
   "metadata": {},
   "source": [
    "**Course website**: http://www.leouieda.com/matematica-especial\n",
    "\n",
    "**Note**: This notebook is part of the course \"Matemática Especial I\" of the [Universidade do Estado do Rio de Janeiro](http://www.uerj.br/). All content can be freely used and adapted under the terms of the \n",
    "[Creative Commons Attribution 4.0 International License](http://creativecommons.org/licenses/by/4.0/).\n",
    "\n",
    "![Creative Commons License](https://i.creativecommons.org/l/by/4.0/88x31.png)"
   ]
  },
  {
   "cell_type": "markdown",
   "metadata": {},
   "source": [
    "# Tarefas de Python II"
   ]
  },
  {
   "cell_type": "markdown",
   "metadata": {},
   "source": [
    "Nessas tarefas, vocês vão praticar os conceitos de programação em Python que aprenderam na prática passada. Além disso, vão aprender algumas coisas novas, como ler dados de arquivos.\n",
    "\n",
    "Algumas células de código estarão preenchidas. Essas células são exemplos ou códigos que devem ser rodados para verificar se seu resultado está de acordo com o esperado."
   ]
  },
  {
   "cell_type": "markdown",
   "metadata": {},
   "source": [
    "## Leitura recomendada\n",
    "\n",
    "O material da lição \"Programming with Python\" versão 4 do\n",
    "[Software Carpentry](http://software-carpentry.org/).\n",
    "Particularmente:\n",
    "\n",
    "* Lists\n",
    "* Input and Output\n",
    "* Strings"
   ]
  },
  {
   "cell_type": "markdown",
   "metadata": {},
   "source": [
    "## Listas\n",
    "\n",
    "Vocês tiveram um contato limitado com listas antes. Agora, vamos aprender como fazer coisas mais sofisticadas com listas, como adicionar valores, fazer uma cópia, e utilizar a lista no `for`.\n",
    "\n",
    "Primeiro, vamos criar uma lista para testarmos."
   ]
  },
  {
   "cell_type": "code",
   "execution_count": 2,
   "metadata": {
    "collapsed": true
   },
   "outputs": [],
   "source": [
    "lista = [42, 21, 14, 7, 29]"
   ]
  },
  {
   "cell_type": "markdown",
   "metadata": {},
   "source": [
    "Você pode perguntar o número de elementos que existem em uma lista utilizando a função `len` (muito melhor que contar os elementos na mão)."
   ]
  },
  {
   "cell_type": "code",
   "execution_count": 3,
   "metadata": {
    "collapsed": false
   },
   "outputs": [
    {
     "name": "stdout",
     "output_type": "stream",
     "text": [
      "5\n"
     ]
    }
   ],
   "source": [
    "N = len(lista)\n",
    "print(N)"
   ]
  },
  {
   "cell_type": "markdown",
   "metadata": {},
   "source": [
    "Outra coisa que podemos fazer é adicionar coisas a nossa lista utilizando o método `append`. \n",
    "\n",
    "**Nota**: \"funções\" são coisa como `print`, `len` e `range` que são executadas com `()` e produzem algo. \"Métodos\" são funções que operam em uma determinada variável e a alteram, como `append` e `format`."
   ]
  },
  {
   "cell_type": "code",
   "execution_count": 4,
   "metadata": {
    "collapsed": true
   },
   "outputs": [],
   "source": [
    "outra_lista = []"
   ]
  },
  {
   "cell_type": "code",
   "execution_count": 5,
   "metadata": {
    "collapsed": true
   },
   "outputs": [],
   "source": [
    "outra_lista.append(10)"
   ]
  },
  {
   "cell_type": "code",
   "execution_count": 6,
   "metadata": {
    "collapsed": false
   },
   "outputs": [
    {
     "name": "stdout",
     "output_type": "stream",
     "text": [
      "[10]\n"
     ]
    }
   ],
   "source": [
    "print(outra_lista)"
   ]
  },
  {
   "cell_type": "markdown",
   "metadata": {},
   "source": [
    "Experimente adicionar elementos a `lista` (utilize a célula vazia abaixo; isso não é uma tarefa ainda)."
   ]
  },
  {
   "cell_type": "code",
   "execution_count": 134,
   "metadata": {
    "collapsed": true
   },
   "outputs": [],
   "source": [
    "x=10.67890"
   ]
  },
  {
   "cell_type": "code",
   "execution_count": 135,
   "metadata": {
    "collapsed": false
   },
   "outputs": [
    {
     "name": "stdout",
     "output_type": "stream",
     "text": [
      "[42, 21, 14, 7, 29, 10, 10, 9, 12, 12, 10.6789]\n"
     ]
    }
   ],
   "source": [
    "\n",
    "lista.append(x)\n",
    "print(lista)"
   ]
  },
  {
   "cell_type": "markdown",
   "metadata": {},
   "source": [
    "Até agora, vocês viram o `for` utilizado somente em conjunto com a função `range`, por exemplo:\n",
    "\n",
    "    for i in range(10):\n",
    "        print(i)\n",
    "\n",
    "Essa é uma parte de como o `for` realmente opera. Na realidade, o `for` itera sobre *elementos de uma lista*. Qualquer lista. O `i` no exemplo acima é uma variável como qualquer outra e pode ter o nome que você quiser. \n",
    "\n",
    "Por exemplo, para iterar sobre os elementos de nossa `lista`:"
   ]
  },
  {
   "cell_type": "code",
   "execution_count": 19,
   "metadata": {
    "collapsed": false
   },
   "outputs": [
    {
     "name": "stdout",
     "output_type": "stream",
     "text": [
      "valor == 42\n",
      "valor == 21\n",
      "valor == 14\n",
      "valor == 7\n",
      "valor == 29\n",
      "valor == 10\n",
      "valor == 10\n",
      "valor == 9\n",
      "valor == 12\n",
      "valor == 12\n"
     ]
    }
   ],
   "source": [
    "for i in lista:\n",
    "    print(\"valor ==\", i)"
   ]
  },
  {
   "cell_type": "markdown",
   "metadata": {},
   "source": [
    "## Lendo dados de arquivos\n",
    "\n",
    "No mundo real, vocês precisarão rotineiramente trabalhar com dados que estão salvos em arquivos. Um formato muito utilizando é o CSV (Comma Separated Values). Nas tarefas dessa prática, vocês terão que analisar os dados do arquivo `dados.csv` que está junto no repositório. Abra esse arquivo em um editor de texto (Notepad++ ou SublimeText) para ver como é o arquivo. A primeira coluna do arquivo representa a hora do dia (de 0 a 24) e a segunda coluna representa um dado fictício de temperatura.\n",
    "\n",
    "Precisamos carregar esses dados para duas listas (uma para as horas e outra para as temperaturas) para podermos trabalhar com eles no Python. Para abrir um arquivo para leitura, utilize a função `open` do Python. Por exemplo: "
   ]
  },
  {
   "cell_type": "code",
   "execution_count": 38,
   "metadata": {
    "collapsed": true
   },
   "outputs": [],
   "source": [
    "arquivo = open('dados.csv')"
   ]
  },
  {
   "cell_type": "markdown",
   "metadata": {},
   "source": [
    "A variável produzida por `open` possui alguns métodos para acessar o conteúdo do arquivo em formato de texto (strings).\n",
    "Um desses métodos é o `readline`. Esse método lê a próxima linha do arquivo e a retorna como texto. Por exemplo:"
   ]
  },
  {
   "cell_type": "code",
   "execution_count": 74,
   "metadata": {
    "collapsed": false
   },
   "outputs": [
    {
     "name": "stdout",
     "output_type": "stream",
     "text": [
      "1, 0.21975159\n",
      "\n"
     ]
    }
   ],
   "source": [
    "vasco = arquivo.readline()\n",
    "print(vasco)"
   ]
  },
  {
   "cell_type": "code",
   "execution_count": 75,
   "metadata": {
    "collapsed": false
   },
   "outputs": [
    {
     "name": "stdout",
     "output_type": "stream",
     "text": [
      "1, 0.21975159\n",
      "\n"
     ]
    }
   ],
   "source": [
    "print(vasco)"
   ]
  },
  {
   "cell_type": "markdown",
   "metadata": {},
   "source": [
    "Rode a célula acima novamente e veja o que acontece.\n"
   ]
  },
  {
   "cell_type": "markdown",
   "metadata": {},
   "source": [
    "Quanto terminamos de utilizar o arquivo, devemos fechá-lo (como as figuras)."
   ]
  },
  {
   "cell_type": "code",
   "execution_count": 26,
   "metadata": {
    "collapsed": true
   },
   "outputs": [],
   "source": [
    "arquivo.close()"
   ]
  },
  {
   "cell_type": "markdown",
   "metadata": {},
   "source": [
    "Uma vez obtida a linha em formato de texto, precisamo separar os dois valores. Os objetos de texto (strings) possuem diversos métodos para trabalharmos com eles. Um desses vocês já conhecem, o método `format`. Para ver uma lista dos métodos disponíveis, digite na célula abaixo `linha.` e aperte a tecla TAB."
   ]
  },
  {
   "cell_type": "code",
   "execution_count": 88,
   "metadata": {
    "collapsed": false
   },
   "outputs": [
    {
     "data": {
      "text/plain": [
       "<function str.format>"
      ]
     },
     "execution_count": 88,
     "metadata": {},
     "output_type": "execute_result"
    }
   ],
   "source": [
    "    linha.format"
   ]
  },
  {
   "cell_type": "markdown",
   "metadata": {},
   "source": [
    "O método que queremos chama-se `split`. Ele faz exatamente o que o nome diz: quebra uma string em várias. O argumento que é passado para ele é o texto que separa os diversos blocos. Por exemplo:"
   ]
  },
  {
   "cell_type": "code",
   "execution_count": 95,
   "metadata": {
    "collapsed": false
   },
   "outputs": [
    {
     "name": "stdout",
     "output_type": "stream",
     "text": [
      "['Texto', 'separado', 'por', 'interrogacoes']\n"
     ]
    }
   ],
   "source": [
    "texto = \"Texto ? separado ? por ? interrogacoes\"\n",
    "blocos = texto.split(' ? ')\n",
    "print(blocos)"
   ]
  },
  {
   "cell_type": "markdown",
   "metadata": {},
   "source": [
    "Note que o resultado produzido por `split` é uma lista."
   ]
  },
  {
   "cell_type": "code",
   "execution_count": 97,
   "metadata": {
    "collapsed": false
   },
   "outputs": [
    {
     "data": {
      "text/plain": [
       "['por']"
      ]
     },
     "execution_count": 97,
     "metadata": {},
     "output_type": "execute_result"
    }
   ],
   "source": [
    "blocos[2:3]"
   ]
  },
  {
   "cell_type": "markdown",
   "metadata": {},
   "source": [
    "Experimente separar a linha do arquivo que vemos acima nos dois valores que ela contem (utilize a célula vazia abaixo; isso não é uma tarefa ainda)."
   ]
  },
  {
   "cell_type": "code",
   "execution_count": 82,
   "metadata": {
    "collapsed": false
   },
   "outputs": [
    {
     "name": "stdout",
     "output_type": "stream",
     "text": [
      "['1', '0.21975159\\n']\n"
     ]
    }
   ],
   "source": [
    "\n",
    "partes = vasco.split(', ')\n",
    "print(partes)"
   ]
  },
  {
   "cell_type": "markdown",
   "metadata": {},
   "source": [
    "Depois que conseguirmos nossos valores em formato texto, precisamos convertê-los para números. O Python nos fornece algumas funções para isso: `int` (para números inteiros), `float` (para números \"reais\" ou ponto flutuante) e `complex` (para números complexos). Por exemplo: "
   ]
  },
  {
   "cell_type": "code",
   "execution_count": 83,
   "metadata": {
    "collapsed": false
   },
   "outputs": [
    {
     "data": {
      "text/plain": [
       "2"
      ]
     },
     "execution_count": 83,
     "metadata": {},
     "output_type": "execute_result"
    }
   ],
   "source": [
    "len(partes)"
   ]
  },
  {
   "cell_type": "code",
   "execution_count": 35,
   "metadata": {
    "collapsed": false
   },
   "outputs": [
    {
     "name": "stdout",
     "output_type": "stream",
     "text": [
      "8889\n"
     ]
    }
   ],
   "source": [
    "valor_em_texto = \"8888\"\n",
    "valor = int(valor_em_texto)\n",
    "print(valor + 1)"
   ]
  },
  {
   "cell_type": "code",
   "execution_count": 36,
   "metadata": {
    "collapsed": false
   },
   "outputs": [
    {
     "name": "stdout",
     "output_type": "stream",
     "text": [
      "2.1\n"
     ]
    }
   ],
   "source": [
    "float_em_texto = \"4.2\"\n",
    "valor = float(float_em_texto)\n",
    "print(valor/2)"
   ]
  },
  {
   "cell_type": "markdown",
   "metadata": {},
   "source": [
    "Por último, podemos tratar a variável `arquivo` retornada por `open` como uma lista das linhas do arquivo. Isso quer dizer que podemos utilizá-la em um `for` como:"
   ]
  },
  {
   "cell_type": "code",
   "execution_count": 84,
   "metadata": {
    "collapsed": false
   },
   "outputs": [
    {
     "name": "stdout",
     "output_type": "stream",
     "text": [
      "240\n"
     ]
    }
   ],
   "source": [
    "arquivo = open('dados.csv')\n",
    "num_linhas = 0\n",
    "for linha in arquivo:\n",
    "    num_linhas = num_linhas + 1    \n",
    "arquivo.close()\n",
    "print(num_linhas)"
   ]
  },
  {
   "cell_type": "markdown",
   "metadata": {},
   "source": [
    "Experimente imprimir todas as linhas do arquivo `README.md` (utilize a célula vazia abaixo; isso não é uma tarefa ainda)."
   ]
  },
  {
   "cell_type": "code",
   "execution_count": 85,
   "metadata": {
    "collapsed": false
   },
   "outputs": [
    {
     "name": "stdout",
     "output_type": "stream",
     "text": [
      "120\n"
     ]
    }
   ],
   "source": [
    "arquivo = open('README.md')\n",
    "num_pautas = 0\n",
    "for pauta in arquivo:\n",
    "    num_pautas = num_pautas + 1\n",
    "arquivo.close\n",
    "print(num_pautas)\n",
    "   "
   ]
  },
  {
   "cell_type": "markdown",
   "metadata": {},
   "source": [
    "## **IMPORTANTE**: Cada tarefa abaixo deve ser feita por um membro DIFERENTE do grupo. Os outros devem ajudá-lo mas a pessoa digitando deve ser quem está encarregado da tarefa."
   ]
  },
  {
   "cell_type": "markdown",
   "metadata": {},
   "source": [
    "## Tarefa 1\n",
    "\n",
    "* Carregue os dados do arquivo `dados.csv` em duas listas: `tempos` e `dados` (os nomes precisam ser esses!). `tempos` deve conter os valores da primeira coluna e `dados` os da segunda.\n",
    "* Faça um gráfico dos hora x temperatura (lembre-se de utilizar a mágia `%matplotlib inline`).\n",
    "\n",
    "Você pode utilizar quantas células achar necessário para realizar a tarefa (use o menu \"Insert\"). Inclua comentátios para explicar o que você está fazendo."
   ]
  },
  {
   "cell_type": "code",
   "execution_count": 1,
   "metadata": {
    "collapsed": false
   },
   "outputs": [
    {
     "data": {
      "text/plain": [
       "'0'"
      ]
     },
     "execution_count": 1,
     "metadata": {},
     "output_type": "execute_result"
    }
   ],
   "source": [
    "arquivo = open('dados.csv')\n",
    "linhas = arquivo.readline() # le a primeira linha\n",
    "blocos = linhas.split(', ')\n",
    "blocos[0]\n",
    "#print(blocos[0])\n"
   ]
  },
  {
   "cell_type": "code",
   "execution_count": 2,
   "metadata": {
    "collapsed": false
   },
   "outputs": [
    {
     "name": "stdout",
     "output_type": "stream",
     "text": [
      "tempo= 0.1 temperatura= 0.61464164\n",
      "\n"
     ]
    }
   ],
   "source": [
    "linhas = arquivo.readline() # le a primeira linha\n",
    "blocos = linhas.split(', ')\n",
    "blocos [1:1]\n",
    "print('tempo=',blocos[0],'temperatura=',blocos[1])"
   ]
  },
  {
   "cell_type": "code",
   "execution_count": 147,
   "metadata": {
    "collapsed": false
   },
   "outputs": [
    {
     "name": "stdout",
     "output_type": "stream",
     "text": [
      "0, 0\n",
      "\n",
      "0.1, 0.61464164\n",
      "\n",
      "0.2, 1.0320324\n",
      "\n",
      "0.3, 1.1238251\n",
      "\n",
      "0.4, 0.87540985\n",
      "\n",
      "0.5, 0.39101585\n",
      "\n",
      "0.6, -0.14270041\n",
      "\n",
      "0.7, -0.52186154\n",
      "\n",
      "0.8, -0.59659114\n",
      "\n",
      "0.9, -0.32337174\n",
      "\n",
      "1, 0.21975159\n",
      "\n",
      "1.1, 0.86043287\n",
      "\n",
      "1.2, 1.3922289\n",
      "\n",
      "1.3, 1.6467141\n",
      "\n",
      "1.4, 1.5523145\n",
      "\n",
      "1.5, 1.1593091\n",
      "\n",
      "1.6, 0.62226425\n",
      "\n",
      "1.7, 0.14603706\n",
      "\n",
      "1.8, -0.085788363\n",
      "\n",
      "1.9, 0.024965949\n",
      "\n",
      "2, 0.45677374\n",
      "\n",
      "2.1, 1.0759225\n",
      "\n",
      "2.2, 1.6832216\n",
      "\n",
      "2.3, 2.0835833\n",
      "\n",
      "2.4, 2.1541709\n",
      "\n",
      "2.5, 1.8873076\n",
      "\n",
      "2.6, 1.3931564\n",
      "\n",
      "2.7, 0.8612352\n",
      "\n",
      "2.8, 0.49421121\n",
      "\n",
      "2.9, 0.43710175\n",
      "\n",
      "3, 0.72661379\n",
      "\n",
      "3.1, 1.2783195\n",
      "\n",
      "3.2, 1.9161477\n",
      "\n",
      "3.3, 2.4338889\n",
      "\n",
      "3.4, 2.6672284\n",
      "\n",
      "3.5, 2.5511447\n",
      "\n",
      "3.6, 2.1426217\n",
      "\n",
      "3.7, 1.6007407\n",
      "\n",
      "3.8, 1.1311076\n",
      "\n",
      "3.9, 0.91402652\n",
      "\n",
      "4, 1.0415133\n",
      "\n",
      "4.1, 1.48515\n",
      "\n",
      "4.2, 2.1060103\n",
      "\n",
      "4.3, 2.703189\n",
      "\n",
      "4.4, 3.0839824\n",
      "\n",
      "4.5, 3.1312036\n",
      "\n",
      "4.6, 2.8441177\n",
      "\n",
      "4.7, 2.3386969\n",
      "\n",
      "4.8, 1.8071066\n",
      "\n",
      "4.9, 1.4505748\n",
      "\n",
      "5, 1.4090961\n",
      "\n",
      "5.1, 1.7125255\n",
      "\n",
      "5.2, 2.2701481\n",
      "\n",
      "5.3, 2.902367\n",
      "\n",
      "5.4, 3.4034394\n",
      "\n",
      "5.5, 3.613348\n",
      "\n",
      "5.6, 3.4736972\n",
      "\n",
      "5.7, 3.0481116\n",
      "\n",
      "5.8, 2.5000081\n",
      "\n",
      "5.9, 2.0355084\n",
      "\n",
      "6, 1.8314335\n",
      "\n",
      "6.1, 1.9735332\n",
      "\n",
      "6.2, 2.4265299\n",
      "\n",
      "6.3, 3.0464409\n",
      "\n",
      "6.4, 3.6308739\n",
      "\n",
      "6.5, 3.9897274\n",
      "\n",
      "6.6, 4.0115968\n",
      "\n",
      "6.7, 3.7026903\n",
      "\n",
      "6.8, 3.1846584\n",
      "\n",
      "6.9, 2.6520967\n",
      "\n",
      "7, 2.3045669\n",
      "\n",
      "7.1, 2.2768823\n",
      "\n",
      "7.2, 2.5920127\n",
      "\n",
      "7.3, 3.153059\n",
      "\n",
      "7.4, 3.7771014\n",
      "\n",
      "7.5, 4.2590973\n",
      "\n",
      "7.6, 4.4435073\n",
      "\n",
      "7.7, 4.2786283\n",
      "\n",
      "7.8, 3.8346536\n",
      "\n",
      "7.9, 3.2791511\n",
      "\n",
      "8, 2.8185258\n",
      "\n",
      "8.1, 2.6259153\n",
      "\n",
      "8.2, 2.7807066\n",
      "\n",
      "8.3, 3.2408029\n",
      "\n",
      "8.4, 3.8573278\n",
      "\n",
      "8.5, 4.4266312\n",
      "\n",
      "8.6, 4.7614286\n",
      "\n",
      "8.7, 4.7562241\n",
      "\n",
      "8.8, 4.424162\n",
      "\n",
      "8.9, 3.8924338\n",
      "\n",
      "9, 3.3578455\n",
      "\n",
      "9.1, 3.0180666\n",
      "\n",
      "9.2, 3.0025774\n",
      "\n",
      "9.3, 3.3274363\n",
      "\n",
      "9.4, 3.8896698\n",
      "\n",
      "9.5, 4.5032423\n",
      "\n",
      "9.6, 4.9640432\n",
      "\n",
      "9.7, 5.1211873\n",
      "\n",
      "9.8, 4.9297225\n",
      "\n",
      "9.9, 4.4663317\n",
      "\n",
      "10, 3.9025443\n",
      "\n",
      "10.1, 3.4448153\n",
      "\n",
      "10.2, 3.2624035\n",
      "\n",
      "10.3, 3.4282434\n",
      "\n",
      "10.4, 3.8934667\n",
      "\n",
      "10.5, 4.5044718\n",
      "\n",
      "10.6, 5.0565811\n",
      "\n",
      "10.7, 5.3655393\n",
      "\n",
      "10.8, 5.3318785\n",
      "\n",
      "10.9, 4.9756644\n",
      "\n",
      "11, 4.4294856\n",
      "\n",
      "11.1, 3.8921364\n",
      "\n",
      "11.2, 3.5591707\n",
      "\n",
      "11.3, 3.5545891\n",
      "\n",
      "11.4, 3.8875211\n",
      "\n",
      "11.5, 4.4490349\n",
      "\n",
      "11.6, 5.05019\n",
      "\n",
      "11.7, 5.4880385\n",
      "\n",
      "11.8, 5.6165203\n",
      "\n",
      "11.9, 5.3974851\n",
      "\n",
      "12, 4.9140188\n",
      "\n",
      "12.1, 4.3414187\n",
      "\n",
      "12.2, 3.8859563\n",
      "\n",
      "12.3, 3.7128201\n",
      "\n",
      "12.4, 3.8884101\n",
      "\n",
      "12.5, 4.3571415\n",
      "\n",
      "12.6, 4.9608616\n",
      "\n",
      "12.7, 5.4940968\n",
      "\n",
      "12.8, 5.7758294\n",
      "\n",
      "12.9, 5.7127321\n",
      "\n",
      "13, 5.3317694\n",
      "\n",
      "13.1, 4.7707774\n",
      "\n",
      "13.2, 4.2303136\n",
      "\n",
      "13.3, 3.9035954\n",
      "\n",
      "13.4, 3.9090038\n",
      "\n",
      "13.5, 4.2487288\n",
      "\n",
      "13.6, 4.8080039\n",
      "\n",
      "13.7, 5.3951972\n",
      "\n",
      "13.8, 5.8087533\n",
      "\n",
      "13.9, 5.9076023\n",
      "\n",
      "14, 5.660439\n",
      "\n",
      "14.1, 5.1566584\n",
      "\n",
      "14.2, 4.5751275\n",
      "\n",
      "14.3, 4.1217012\n",
      "\n",
      "14.4, 3.957311\n",
      "\n",
      "14.5, 4.1417471\n",
      "\n",
      "14.6, 4.6127715\n",
      "\n",
      "14.7, 5.2078593\n",
      "\n",
      "14.8, 5.720973\n",
      "\n",
      "14.9, 5.9745374\n",
      "\n",
      "15, 5.8814716\n",
      "\n",
      "15.1, 5.4756083\n",
      "\n",
      "15.2, 4.8998752\n",
      "\n",
      "15.3, 4.3563664\n",
      "\n",
      "15.4, 4.0357444\n",
      "\n",
      "15.5, 4.0506367\n",
      "\n",
      "15.6, 4.3962913\n",
      "\n",
      "15.7, 4.952237\n",
      "\n",
      "15.8, 5.5243671\n",
      "\n",
      "15.9, 5.9127468\n",
      "\n",
      "16, 5.9814558\n",
      "\n",
      "16.1, 5.7060695\n",
      "\n",
      "16.2, 5.1821911\n",
      "\n",
      "16.3, 4.5920549\n",
      "\n",
      "16.4, 4.1408664\n",
      "\n",
      "16.5, 3.9851183\n",
      "\n",
      "16.6, 4.1779235\n",
      "\n",
      "16.7, 4.650461\n",
      "\n",
      "16.8, 5.2360174\n",
      "\n",
      "16.9, 5.7282246\n",
      "\n",
      "17, 5.9531508\n",
      "\n",
      "17.1, 5.8300596\n",
      "\n",
      "17.2, 5.3996139\n",
      "\n",
      "17.3, 4.8096715\n",
      "\n",
      "17.4, 4.2636343\n",
      "\n",
      "17.5, 3.9493945\n",
      "\n",
      "17.6, 3.9736985\n",
      "\n",
      "17.7, 4.3248581\n",
      "\n",
      "17.8, 4.8768333\n",
      "\n",
      "17.9, 5.4332623\n",
      "\n",
      "18, 5.7960567\n",
      "\n",
      "18.1, 5.8345998\n",
      "\n",
      "18.2, 5.5313751\n",
      "\n",
      "18.3, 4.988086\n",
      "\n",
      "18.4, 4.3901277\n",
      "\n",
      "18.5, 3.9418246\n",
      "\n",
      "18.6, 3.7950534\n",
      "\n",
      "18.7, 3.9961897\n",
      "\n",
      "18.8, 4.4699073\n",
      "\n",
      "18.9, 5.0454927\n",
      "\n",
      "19, 5.5164808\n",
      "\n",
      "19.1, 5.7127796\n",
      "\n",
      "19.2, 5.5600885\n",
      "\n",
      "19.3, 5.1058548\n",
      "\n",
      "19.4, 4.5026988\n",
      "\n",
      "19.5, 3.9551006\n",
      "\n",
      "19.6, 3.6479693\n",
      "\n",
      "19.7, 3.6820497\n",
      "\n",
      "19.8, 4.0387303\n",
      "\n",
      "19.9, 4.5865447\n",
      "\n",
      "20, 5.1270983\n",
      "\n",
      "20.1, 5.4643731\n",
      "\n",
      "20.2, 5.4732034\n",
      "\n",
      "20.3, 5.1430008\n",
      "\n",
      "20.4, 4.5814535\n",
      "\n",
      "20.5, 3.9769084\n",
      "\n",
      "20.6, 3.5325771\n",
      "\n",
      "20.7, 3.395549\n",
      "\n",
      "20.8, 3.6054095\n",
      "\n",
      "20.9, 4.0804126\n",
      "\n",
      "21, 4.6460377\n",
      "\n",
      "21.1, 5.0959559\n",
      "\n",
      "21.2, 5.2641073\n",
      "\n",
      "21.3, 5.0827113\n",
      "\n",
      "21.4, 4.6059455\n",
      "\n",
      "21.5, 3.9910206\n",
      "\n",
      "21.6, 3.443263\n",
      "\n",
      "21.7, 3.1443897\n",
      "\n",
      "21.8, 3.18903\n",
      "\n",
      "21.9, 3.5516699\n",
      "\n",
      "22, 4.0955656\n",
      "\n",
      "22.1, 4.6205135\n",
      "\n",
      "22.2, 4.9327876\n",
      "\n",
      "22.3, 4.912815\n",
      "\n",
      "22.4, 4.5569469\n",
      "\n",
      "22.5, 3.9787347\n",
      "\n",
      "22.6, 3.3692636\n",
      "\n",
      "22.7, 2.930403\n",
      "\n",
      "22.8, 2.8042882\n",
      "\n",
      "22.9, 3.0236697\n",
      "\n",
      "23, 3.5004738\n",
      "\n",
      "23.1, 4.0565703\n",
      "\n",
      "23.2, 4.4859995\n",
      "\n",
      "23.3, 4.6269216\n",
      "\n",
      "23.4, 4.4181522\n",
      "\n",
      "23.5, 3.9205381\n",
      "\n",
      "23.6, 3.2957021\n",
      "\n",
      "23.7, 2.749585\n",
      "\n",
      "23.8, 2.460506\n",
      "\n",
      "23.9, 2.5168717\n",
      "\n"
     ]
    }
   ],
   "source": [
    "arquivo = open('dados.csv')\n",
    "for linha in arquivo:\n",
    "    print(linha)"
   ]
  },
  {
   "cell_type": "code",
   "execution_count": 151,
   "metadata": {
    "collapsed": true
   },
   "outputs": [],
   "source": [
    "arquivo.close()"
   ]
  },
  {
   "cell_type": "code",
   "execution_count": 9,
   "metadata": {
    "collapsed": false,
    "scrolled": true
   },
   "outputs": [
    {
     "name": "stdout",
     "output_type": "stream",
     "text": [
      "tempo = [0.0, 0.1, 0.2, 0.3, 0.4, 0.5, 0.6, 0.7, 0.8, 0.9, 1.0, 1.1, 1.2, 1.3, 1.4, 1.5, 1.6, 1.7, 1.8, 1.9, 2.0, 2.1, 2.2, 2.3, 2.4, 2.5, 2.6, 2.7, 2.8, 2.9, 3.0, 3.1, 3.2, 3.3, 3.4, 3.5, 3.6, 3.7, 3.8, 3.9, 4.0, 4.1, 4.2, 4.3, 4.4, 4.5, 4.6, 4.7, 4.8, 4.9, 5.0, 5.1, 5.2, 5.3, 5.4, 5.5, 5.6, 5.7, 5.8, 5.9, 6.0, 6.1, 6.2, 6.3, 6.4, 6.5, 6.6, 6.7, 6.8, 6.9, 7.0, 7.1, 7.2, 7.3, 7.4, 7.5, 7.6, 7.7, 7.8, 7.9, 8.0, 8.1, 8.2, 8.3, 8.4, 8.5, 8.6, 8.7, 8.8, 8.9, 9.0, 9.1, 9.2, 9.3, 9.4, 9.5, 9.6, 9.7, 9.8, 9.9, 10.0, 10.1, 10.2, 10.3, 10.4, 10.5, 10.6, 10.7, 10.8, 10.9, 11.0, 11.1, 11.2, 11.3, 11.4, 11.5, 11.6, 11.7, 11.8, 11.9, 12.0, 12.1, 12.2, 12.3, 12.4, 12.5, 12.6, 12.7, 12.8, 12.9, 13.0, 13.1, 13.2, 13.3, 13.4, 13.5, 13.6, 13.7, 13.8, 13.9, 14.0, 14.1, 14.2, 14.3, 14.4, 14.5, 14.6, 14.7, 14.8, 14.9, 15.0, 15.1, 15.2, 15.3, 15.4, 15.5, 15.6, 15.7, 15.8, 15.9, 16.0, 16.1, 16.2, 16.3, 16.4, 16.5, 16.6, 16.7, 16.8, 16.9, 17.0, 17.1, 17.2, 17.3, 17.4, 17.5, 17.6, 17.7, 17.8, 17.9, 18.0, 18.1, 18.2, 18.3, 18.4, 18.5, 18.6, 18.7, 18.8, 18.9, 19.0, 19.1, 19.2, 19.3, 19.4, 19.5, 19.6, 19.7, 19.8, 19.9, 20.0, 20.1, 20.2, 20.3, 20.4, 20.5, 20.6, 20.7, 20.8, 20.9, 21.0, 21.1, 21.2, 21.3, 21.4, 21.5, 21.6, 21.7, 21.8, 21.9, 22.0, 22.1, 22.2, 22.3, 22.4, 22.5, 22.6, 22.7, 22.8, 22.9, 23.0, 23.1, 23.2, 23.3, 23.4, 23.5, 23.6, 23.7, 23.8, 23.9]\n",
      "temperatura = [0.0, 0.61464164, 1.0320324, 1.1238251, 0.87540985, 0.39101585, -0.14270041, -0.52186154, -0.59659114, -0.32337174, 0.21975159, 0.86043287, 1.3922289, 1.6467141, 1.5523145, 1.1593091, 0.62226425, 0.14603706, -0.085788363, 0.024965949, 0.45677374, 1.0759225, 1.6832216, 2.0835833, 2.1541709, 1.8873076, 1.3931564, 0.8612352, 0.49421121, 0.43710175, 0.72661379, 1.2783195, 1.9161477, 2.4338889, 2.6672284, 2.5511447, 2.1426217, 1.6007407, 1.1311076, 0.91402652, 1.0415133, 1.48515, 2.1060103, 2.703189, 3.0839824, 3.1312036, 2.8441177, 2.3386969, 1.8071066, 1.4505748, 1.4090961, 1.7125255, 2.2701481, 2.902367, 3.4034394, 3.613348, 3.4736972, 3.0481116, 2.5000081, 2.0355084, 1.8314335, 1.9735332, 2.4265299, 3.0464409, 3.6308739, 3.9897274, 4.0115968, 3.7026903, 3.1846584, 2.6520967, 2.3045669, 2.2768823, 2.5920127, 3.153059, 3.7771014, 4.2590973, 4.4435073, 4.2786283, 3.8346536, 3.2791511, 2.8185258, 2.6259153, 2.7807066, 3.2408029, 3.8573278, 4.4266312, 4.7614286, 4.7562241, 4.424162, 3.8924338, 3.3578455, 3.0180666, 3.0025774, 3.3274363, 3.8896698, 4.5032423, 4.9640432, 5.1211873, 4.9297225, 4.4663317, 3.9025443, 3.4448153, 3.2624035, 3.4282434, 3.8934667, 4.5044718, 5.0565811, 5.3655393, 5.3318785, 4.9756644, 4.4294856, 3.8921364, 3.5591707, 3.5545891, 3.8875211, 4.4490349, 5.05019, 5.4880385, 5.6165203, 5.3974851, 4.9140188, 4.3414187, 3.8859563, 3.7128201, 3.8884101, 4.3571415, 4.9608616, 5.4940968, 5.7758294, 5.7127321, 5.3317694, 4.7707774, 4.2303136, 3.9035954, 3.9090038, 4.2487288, 4.8080039, 5.3951972, 5.8087533, 5.9076023, 5.660439, 5.1566584, 4.5751275, 4.1217012, 3.957311, 4.1417471, 4.6127715, 5.2078593, 5.720973, 5.9745374, 5.8814716, 5.4756083, 4.8998752, 4.3563664, 4.0357444, 4.0506367, 4.3962913, 4.952237, 5.5243671, 5.9127468, 5.9814558, 5.7060695, 5.1821911, 4.5920549, 4.1408664, 3.9851183, 4.1779235, 4.650461, 5.2360174, 5.7282246, 5.9531508, 5.8300596, 5.3996139, 4.8096715, 4.2636343, 3.9493945, 3.9736985, 4.3248581, 4.8768333, 5.4332623, 5.7960567, 5.8345998, 5.5313751, 4.988086, 4.3901277, 3.9418246, 3.7950534, 3.9961897, 4.4699073, 5.0454927, 5.5164808, 5.7127796, 5.5600885, 5.1058548, 4.5026988, 3.9551006, 3.6479693, 3.6820497, 4.0387303, 4.5865447, 5.1270983, 5.4643731, 5.4732034, 5.1430008, 4.5814535, 3.9769084, 3.5325771, 3.395549, 3.6054095, 4.0804126, 4.6460377, 5.0959559, 5.2641073, 5.0827113, 4.6059455, 3.9910206, 3.443263, 3.1443897, 3.18903, 3.5516699, 4.0955656, 4.6205135, 4.9327876, 4.912815, 4.5569469, 3.9787347, 3.3692636, 2.930403, 2.8042882, 3.0236697, 3.5004738, 4.0565703, 4.4859995, 4.6269216, 4.4181522, 3.9205381, 3.2957021, 2.749585, 2.460506, 2.5168717]\n"
     ]
    }
   ],
   "source": [
    "arquivo = open('dados.csv')\n",
    "tempo = []\n",
    "dados = []\n",
    "num_linhas = 0\n",
    "for linhas in arquivo:\n",
    "    num_linhas = num_linhas + 1\n",
    "#    linhas = arquivo.readline()\n",
    "    blocos = linhas.split(', ')\n",
    "    tempo.append(float(blocos[0]))\n",
    "    dados.append(float(blocos[1]))\n",
    "print(\"tempo =\",tempo)\n",
    "\n",
    "print(\"temperatura =\",dados)\n",
    "\n",
    "\n"
   ]
  },
  {
   "cell_type": "code",
   "execution_count": 17,
   "metadata": {
    "collapsed": false
   },
   "outputs": [],
   "source": [
    "import matplotlib.pyplot as plt\n",
    "\n",
    "plt.plot(blocos[0], blocos[1], 'ok')\n",
    "plt.title ('Grafico')\n",
    "plt.xlabel ('Temperatura')\n",
    "plt.ylabel ('Hora')\n",
    "plt.savefig ('12.png')\n",
    "plt.show ()"
   ]
  },
  {
   "cell_type": "code",
   "execution_count": 50,
   "metadata": {
    "collapsed": false
   },
   "outputs": [
    {
     "name": "stdout",
     "output_type": "stream",
     "text": [
      "Tempo = [0.0, 0.1, 0.2, 0.3, 0.4, 0.5, 0.6, 0.7, 0.8, 0.9, 1.0, 1.1, 1.2, 1.3, 1.4, 1.5, 1.6, 1.7, 1.8, 1.9, 2.0, 2.1, 2.2, 2.3, 2.4, 2.5, 2.6, 2.7, 2.8, 2.9, 3.0, 3.1, 3.2, 3.3, 3.4, 3.5, 3.6, 3.7, 3.8, 3.9, 4.0, 4.1, 4.2, 4.3, 4.4, 4.5, 4.6, 4.7, 4.8, 4.9, 5.0, 5.1, 5.2, 5.3, 5.4, 5.5, 5.6, 5.7, 5.8, 5.9, 6.0, 6.1, 6.2, 6.3, 6.4, 6.5, 6.6, 6.7, 6.8, 6.9, 7.0, 7.1, 7.2, 7.3, 7.4, 7.5, 7.6, 7.7, 7.8, 7.9, 8.0, 8.1, 8.2, 8.3, 8.4, 8.5, 8.6, 8.7, 8.8, 8.9, 9.0, 9.1, 9.2, 9.3, 9.4, 9.5, 9.6, 9.7, 9.8, 9.9, 10.0, 10.1, 10.2, 10.3, 10.4, 10.5, 10.6, 10.7, 10.8, 10.9, 11.0, 11.1, 11.2, 11.3, 11.4, 11.5, 11.6, 11.7, 11.8, 11.9, 12.0, 12.1, 12.2, 12.3, 12.4, 12.5, 12.6, 12.7, 12.8, 12.9, 13.0, 13.1, 13.2, 13.3, 13.4, 13.5, 13.6, 13.7, 13.8, 13.9, 14.0, 14.1, 14.2, 14.3, 14.4, 14.5, 14.6, 14.7, 14.8, 14.9, 15.0, 15.1, 15.2, 15.3, 15.4, 15.5, 15.6, 15.7, 15.8, 15.9, 16.0, 16.1, 16.2, 16.3, 16.4, 16.5, 16.6, 16.7, 16.8, 16.9, 17.0, 17.1, 17.2, 17.3, 17.4, 17.5, 17.6, 17.7, 17.8, 17.9, 18.0, 18.1, 18.2, 18.3, 18.4, 18.5, 18.6, 18.7, 18.8, 18.9, 19.0, 19.1, 19.2, 19.3, 19.4, 19.5, 19.6, 19.7, 19.8, 19.9, 20.0, 20.1, 20.2, 20.3, 20.4, 20.5, 20.6, 20.7, 20.8, 20.9, 21.0, 21.1, 21.2, 21.3, 21.4, 21.5, 21.6, 21.7, 21.8, 21.9, 22.0, 22.1, 22.2, 22.3, 22.4, 22.5, 22.6, 22.7, 22.8, 22.9, 23.0, 23.1, 23.2, 23.3, 23.4, 23.5, 23.6, 23.7, 23.8, 23.9]\n",
      "Temperatura = [0.0, 0.61464164, 1.0320324, 1.1238251, 0.87540985, 0.39101585, -0.14270041, -0.52186154, -0.59659114, -0.32337174, 0.21975159, 0.86043287, 1.3922289, 1.6467141, 1.5523145, 1.1593091, 0.62226425, 0.14603706, -0.085788363, 0.024965949, 0.45677374, 1.0759225, 1.6832216, 2.0835833, 2.1541709, 1.8873076, 1.3931564, 0.8612352, 0.49421121, 0.43710175, 0.72661379, 1.2783195, 1.9161477, 2.4338889, 2.6672284, 2.5511447, 2.1426217, 1.6007407, 1.1311076, 0.91402652, 1.0415133, 1.48515, 2.1060103, 2.703189, 3.0839824, 3.1312036, 2.8441177, 2.3386969, 1.8071066, 1.4505748, 1.4090961, 1.7125255, 2.2701481, 2.902367, 3.4034394, 3.613348, 3.4736972, 3.0481116, 2.5000081, 2.0355084, 1.8314335, 1.9735332, 2.4265299, 3.0464409, 3.6308739, 3.9897274, 4.0115968, 3.7026903, 3.1846584, 2.6520967, 2.3045669, 2.2768823, 2.5920127, 3.153059, 3.7771014, 4.2590973, 4.4435073, 4.2786283, 3.8346536, 3.2791511, 2.8185258, 2.6259153, 2.7807066, 3.2408029, 3.8573278, 4.4266312, 4.7614286, 4.7562241, 4.424162, 3.8924338, 3.3578455, 3.0180666, 3.0025774, 3.3274363, 3.8896698, 4.5032423, 4.9640432, 5.1211873, 4.9297225, 4.4663317, 3.9025443, 3.4448153, 3.2624035, 3.4282434, 3.8934667, 4.5044718, 5.0565811, 5.3655393, 5.3318785, 4.9756644, 4.4294856, 3.8921364, 3.5591707, 3.5545891, 3.8875211, 4.4490349, 5.05019, 5.4880385, 5.6165203, 5.3974851, 4.9140188, 4.3414187, 3.8859563, 3.7128201, 3.8884101, 4.3571415, 4.9608616, 5.4940968, 5.7758294, 5.7127321, 5.3317694, 4.7707774, 4.2303136, 3.9035954, 3.9090038, 4.2487288, 4.8080039, 5.3951972, 5.8087533, 5.9076023, 5.660439, 5.1566584, 4.5751275, 4.1217012, 3.957311, 4.1417471, 4.6127715, 5.2078593, 5.720973, 5.9745374, 5.8814716, 5.4756083, 4.8998752, 4.3563664, 4.0357444, 4.0506367, 4.3962913, 4.952237, 5.5243671, 5.9127468, 5.9814558, 5.7060695, 5.1821911, 4.5920549, 4.1408664, 3.9851183, 4.1779235, 4.650461, 5.2360174, 5.7282246, 5.9531508, 5.8300596, 5.3996139, 4.8096715, 4.2636343, 3.9493945, 3.9736985, 4.3248581, 4.8768333, 5.4332623, 5.7960567, 5.8345998, 5.5313751, 4.988086, 4.3901277, 3.9418246, 3.7950534, 3.9961897, 4.4699073, 5.0454927, 5.5164808, 5.7127796, 5.5600885, 5.1058548, 4.5026988, 3.9551006, 3.6479693, 3.6820497, 4.0387303, 4.5865447, 5.1270983, 5.4643731, 5.4732034, 5.1430008, 4.5814535, 3.9769084, 3.5325771, 3.395549, 3.6054095, 4.0804126, 4.6460377, 5.0959559, 5.2641073, 5.0827113, 4.6059455, 3.9910206, 3.443263, 3.1443897, 3.18903, 3.5516699, 4.0955656, 4.6205135, 4.9327876, 4.912815, 4.5569469, 3.9787347, 3.3692636, 2.930403, 2.8042882, 3.0236697, 3.5004738, 4.0565703, 4.4859995, 4.6269216, 4.4181522, 3.9205381, 3.2957021, 2.749585, 2.460506, 2.5168717]\n"
     ]
    },
    {
     "data": {
      "image/png": "[encoded data removed]",
      "text/plain": [
       "<matplotlib.figure.Figure at 0x5cb5d30>"
      ]
     },
     "metadata": {},
     "output_type": "display_data"
    }
   ],
   "source": [
    "arquivo = open('dados.csv')\n",
    "tempo = [] #lista vazia criada para tempo\n",
    "dados = [] #lista vazia criada para temperatura\n",
    "num_linhas = 0 # linha inicial de onde deve partir o for\n",
    "for linhas in arquivo:\n",
    "    num_linhas = num_linhas + 1 #comando necessário para o for ler cada linha do arquivo\n",
    "#    linhas = arquivo.readline()\n",
    "    blocos = linhas.split(', ') # usado o comando split para separar a partir da virgula a linha que continha 1 elemento, em 2 elementos\n",
    "    tempo.append(float(blocos[0])) # comando usado para adicionar a lista tempo os primeiros elementos de cada linha ja transformado os valores em formato texto pelo comando 'float' \n",
    "    dados.append(float(blocos[1])) # comando usado para adicionar a lista temperatura o segundo elemento de cada linha ja transformado os valores em formato texto pelo comando 'float'\n",
    "   \n",
    "print(\"Tempo =\",tempo) # imprime a lista tempo com o nome \"Tempo =\" a frente.\n",
    "\n",
    "print(\"Temperatura =\",dados) # imprime a lista temperatura com o nome \"Temperatura =\" a frente\n",
    "\n",
    "import matplotlib.pyplot as plt\n",
    "%matplotlib inline\n",
    "\n",
    "plt.plot(tempo, dados, '-k') #plotar grafico com as listas tempo e tempetatura como variáveis, \"-k\" siginifica plotar em linha\n",
    "plt.title ('Grafico') # nome do gráfico\n",
    "plt.xlabel ('Hora') # Nome do eixo x\n",
    "plt.ylabel ('Temperatura') #nome do eixo y\n",
    "plt.savefig ('Hora-Temperatura.png') #nome da figura salva\n",
    "plt.show () #mostrar o grafico\n",
    "   "
   ]
  },
  {
   "cell_type": "markdown",
   "metadata": {},
   "source": [
    "### Resultado esperado\n",
    "\n",
    "A figura gerada deve ser parecida com:\n",
    "\n",
    "![images/dados.png](images/dados.png)\n",
    "\n",
    "Ao executar a célula abaixo, o resultado deve ser similar a:\n",
    "\n",
    "    Tempos: [0.0, 0.1, 0.2, 0.3, 0.4, 0.5, 0.6, 0.7, 0.8, ...]\n",
    "    Dados: [0.0, 0.61464164, 1.0320324, 1.1238251, 0.87540985, 0.39101585, -0.14270041, ...]"
   ]
  },
  {
   "cell_type": "code",
   "execution_count": null,
   "metadata": {
    "collapsed": false
   },
   "outputs": [],
   "source": [
    "print(\"Tempos:\", tempos)\n",
    "print(\"Dados:\", dados)"
   ]
  },
  {
   "cell_type": "code",
   "execution_count": null,
   "metadata": {
    "collapsed": true
   },
   "outputs": [],
   "source": []
  },
  {
   "cell_type": "code",
   "execution_count": null,
   "metadata": {
    "collapsed": true
   },
   "outputs": [],
   "source": []
  },
  {
   "cell_type": "markdown",
   "metadata": {},
   "source": [
    "## Tarefa 2\n",
    "\n",
    "* Calcule a temperatura média para o dia inteiro e guarde-a em uma variável chamada `media`.\n",
    "* Calcule o desvio padrão da temperatura para o dia inteiro e guarde-o em uma variável chamada `desvio_padrao`.\n",
    "\n",
    "Lembre-se que o desvio padrão é\n",
    "\n",
    "$$\n",
    "\\sigma = \\sqrt{\\sum\\limits_{i=1}^{N}\\frac{ (x_i - x_{media})^2 }{N}}\n",
    "$$\n",
    "\n",
    "\n",
    "em que $x_i$ são os dados, $x_{media}$ é a média e $N$ é o número de dados.\n",
    "\n",
    "**Dica**: Para elevar um número a uma potência, utilize `**`. Por exemplo, `2**4 == 16`."
   ]
  },
  {
   "cell_type": "code",
   "execution_count": 45,
   "metadata": {
    "collapsed": false
   },
   "outputs": [
    {
     "name": "stdout",
     "output_type": "stream",
     "text": [
      "867.4547440759997\n",
      "240\n",
      "3.614394766983332\n"
     ]
    }
   ],
   "source": [
    "soma = 0\n",
    "for i in dados:\n",
    "    soma = soma + i\n",
    "print(soma)\n",
    "n = len(dados)\n",
    "print(n)\n",
    "media = soma/n\n",
    "print(media)"
   ]
  },
  {
   "cell_type": "code",
   "execution_count": 46,
   "metadata": {
    "collapsed": false
   },
   "outputs": [
    {
     "name": "stdout",
     "output_type": "stream",
     "text": [
      "593.9953300510624\n",
      "2.4749805418794266\n",
      "1.5732070880463978\n"
     ]
    }
   ],
   "source": [
    "somatorio = 0\n",
    "for x_i in dados:\n",
    "    somatorio = somatorio + (x_i - media)**2\n",
    "print(somatorio)\n",
    "somatorio = somatorio/n\n",
    "print(somatorio)\n",
    "desvio_padrao = (somatorio)**0.5\n",
    "print(desvio_padrao)\n",
    "\n",
    " "
   ]
  },
  {
   "cell_type": "code",
   "execution_count": 40,
   "metadata": {
    "collapsed": false
   },
   "outputs": [
    {
     "data": {
      "text/plain": [
       "4.5"
      ]
     },
     "execution_count": 40,
     "metadata": {},
     "output_type": "execute_result"
    }
   ],
   "source": [
    "9**1/2"
   ]
  },
  {
   "cell_type": "markdown",
   "metadata": {},
   "source": [
    "### Resultado esperado\n",
    "\n",
    "As celúlas abaixo comparam a sua média e desvio padrão com os calculados pela biblioteca [numpy](http://numpy.org/).\n",
    "Ambas devem imprimir `True` quando executadas."
   ]
  },
  {
   "cell_type": "code",
   "execution_count": 10,
   "metadata": {
    "collapsed": false
   },
   "outputs": [
    {
     "name": "stdout",
     "output_type": "stream",
     "text": [
      "A media esta igual? True\n"
     ]
    }
   ],
   "source": [
    "import numpy as np\n",
    "print(\"A media esta igual?\", np.allclose(media, np.mean(dados)))"
   ]
  },
  {
   "cell_type": "code",
   "execution_count": 51,
   "metadata": {
    "collapsed": false
   },
   "outputs": [
    {
     "name": "stdout",
     "output_type": "stream",
     "text": [
      "Desvio padrao esta igual? True\n"
     ]
    }
   ],
   "source": [
    "print(\"Desvio padrao esta igual?\", np.allclose(desvio_padrao, np.std(dados)))"
   ]
  },
  {
   "cell_type": "markdown",
   "metadata": {},
   "source": [
    "## Tarefa 3\n",
    "\n",
    "* Ache o valor máximo de temperatura medido e guarde-o na variável `maximo`.\n",
    "* Ache o valor mínimo de temperatura medido e guarde-o na variável `minimo`.\n",
    "\n",
    "**Dica**: o Python inclui um valor especial chamado de `None`. Ele é comumente utilizado para marcar que uma variável está \"vazia\" ou não utilizada ainda. Um detalhe desse valor é que não podemos utilizar `==` para checar se uma variável possui o valor `None`. Ao invés disso, devemos utilizar o comando `is`. Por exemplo:\n",
    "\n",
    "    variavel = None\n",
    "    if variavel is None:\n",
    "        print(\"A variavel eh None\")\n",
    "        variavel = 20\n",
    "        "
   ]
  },
  {
   "cell_type": "code",
   "execution_count": 169,
   "metadata": {
    "collapsed": false
   },
   "outputs": [
    {
     "name": "stdout",
     "output_type": "stream",
     "text": [
      "5.9814558\n"
     ]
    }
   ],
   "source": [
    "maximo = 0\n",
    "for temperatura in dados:\n",
    "    if temperatura > maximo:\n",
    "        maximo = temperatura\n",
    "print(maximo)"
   ]
  },
  {
   "cell_type": "code",
   "execution_count": 27,
   "metadata": {
    "collapsed": false
   },
   "outputs": [
    {
     "name": "stdout",
     "output_type": "stream",
     "text": [
      "1\n"
     ]
    }
   ],
   "source": [
    "dados2=[9,1,2,3,4]\n",
    "minimo = 6\n",
    "for temperatura in dados2:\n",
    "    if temperatura < minimo:\n",
    "        minimo = temperatura\n",
    "print(minimo)"
   ]
  },
  {
   "cell_type": "markdown",
   "metadata": {},
   "source": [
    "### Resultado esperado\n",
    "\n",
    "As celúlas abaixo comparam os valores máximo e mínimo com os calculados pelas funções `max` e `min` do Python.\n",
    "Ambas devem imprimir `True` quando executadas."
   ]
  },
  {
   "cell_type": "code",
   "execution_count": 11,
   "metadata": {
    "collapsed": false
   },
   "outputs": [
    {
     "name": "stdout",
     "output_type": "stream",
     "text": [
      "Maximo esta igual? True\n"
     ]
    }
   ],
   "source": [
    "print(\"Maximo esta igual?\", np.allclose(maximo, max(dados)))"
   ]
  },
  {
   "cell_type": "code",
   "execution_count": 13,
   "metadata": {
    "collapsed": false
   },
   "outputs": [
    {
     "name": "stdout",
     "output_type": "stream",
     "text": [
      "Minimo esta igual? True\n"
     ]
    }
   ],
   "source": [
    "print(\"Minimo esta igual?\", np.allclose(minimo, min(dados)))"
   ]
  },
  {
   "cell_type": "markdown",
   "metadata": {},
   "source": [
    "## Tarefa 4\n",
    "\n",
    "* Calcule a temperatura média por hora e guarde-as em uma lista chamada `media_hora`.\n",
    "* Faça um gráfico dos dados originais juntamente com as médias que você calculou.\n",
    "\n",
    "**Dica 1**: quantos dados existem por hora?\n",
    "\n",
    "**Dica 2**: veja esse [exemplo de como colocar uma legenda no grafico](http://matplotlib.org/examples/api/legend_demo.html)."
   ]
  },
  {
   "cell_type": "code",
   "execution_count": 24,
   "metadata": {
    "collapsed": false
   },
   "outputs": [
    {
     "name": "stdout",
     "output_type": "stream",
     "text": [
      "[0.24524000100000007, 0.7538229956, 1.25266842, 1.7361839509999997, 2.19915446, 2.6368249399999995, 3.0449581, 3.4198659899999995, 3.7584158100000002, 4.05801226, 4.31656083, 4.5324171699999996, 4.704328540000001, 4.83137451, 4.912912540000001, 4.948534479999999, 4.93803825, 4.88141768, 4.7788713000000005, 4.6308297099999995, 4.4379985699999995, 4.20141309, 3.92249878, 3.6031320300000003]\n"
     ]
    },
    {
     "data": {
      "text/plain": [
       "<matplotlib.legend.Legend at 0x5b0e5f8>"
      ]
     },
     "execution_count": 24,
     "metadata": {},
     "output_type": "execute_result"
    },
    {
     "data": {
      "image/png": "[encoded data removed]",
      "text/plain": [
       "<matplotlib.figure.Figure at 0x7ab8588>"
      ]
     },
     "metadata": {},
     "output_type": "display_data"
    }
   ],
   "source": [
    "media_hora = []\n",
    "a = -10\n",
    "b = 0\n",
    "for l in range(0, 240, 10):\n",
    "    a = a + 10\n",
    "    b = b + 10\n",
    "    md = 0\n",
    "    for u in dados[a:b]:\n",
    "        md = md + u\n",
    "        mdhora = md/10\n",
    "    media_hora.append(mdhora)\n",
    "print(media_hora)\n",
    "\n",
    "horas = range(0, 24)\n",
    "plt.figure()\n",
    "plt.plot(tempo, dados, '-k', label = \"Dados\")\n",
    "plt.plot(horas, media_hora, 'ok', label = \"Media por hora\")\n",
    "plt.xlabel('Hora')\n",
    "plt.ylabel('Temperatura')\n",
    "plt.legend(loc='lower right', shadow=True, fontsize='x-large')"
   ]
  },
  {
   "cell_type": "markdown",
   "metadata": {},
   "source": [
    "### Resultado esperado\n",
    "\n",
    "A figura gerada deve ser parecida com:\n",
    "\n",
    "![images/media-por-hora.png](images/media-por-hora.png)"
   ]
  },
  {
   "cell_type": "markdown",
   "metadata": {},
   "source": [
    "## Tarefa Bônus\n",
    "\n",
    "Essa tarefa vale um bônus de 0.5 pontos na nota da prática.\n",
    "\n",
    "* Calcule os máximos de temperatura por hora.\n",
    "* Calcule os mínimos de temperatura por hora.\n",
    "* Faça um gráfico com: (1) os dados originais (2) as médias por hora (3) os máximos por hora (4) os mínimos por hora."
   ]
  },
  {
   "cell_type": "code",
   "execution_count": 44,
   "metadata": {
    "collapsed": false
   },
   "outputs": [
    {
     "name": "stdout",
     "output_type": "stream",
     "text": [
      "[1.1238251, 1.6467141, 2.1541709, 2.6672284, 3.1312036, 3.613348, 4.0115968, 4.4435073, 4.7614286, 5.1211873, 5.3655393, 5.6165203, 5.7758294, 5.9076023, 5.9745374, 5.9127468, 5.9814558, 5.9531508, 5.8345998, 5.7127796, 5.4732034, 5.2641073, 4.9327876, 4.6269216]\n"
     ]
    }
   ],
   "source": [
    "maximo_hora = []\n",
    "minimo_hora = []\n",
    "a = -10\n",
    "b = 0\n",
    "for l in range(0, 240, 10):\n",
    "    a = a + 10\n",
    "    b = b + 10\n",
    "    maximo = -10\n",
    "    for temperatura in dados[a:b]:\n",
    "        if temperatura > maximo:\n",
    "            maximo = temperatura\n",
    "    maximo_hora.append(maximo)\n",
    "print(maximo_hora)\n",
    "\n"
   ]
  },
  {
   "cell_type": "code",
   "execution_count": 63,
   "metadata": {
    "collapsed": false
   },
   "outputs": [
    {
     "name": "stdout",
     "output_type": "stream",
     "text": [
      "[-0.59659114, -0.085788363, 0.43710175, 0.72661379, 1.0415133, 1.4090961, 1.8314335, 2.2768823, 2.6259153, 3.0025774, 3.2624035, 3.5545891, 3.7128201, 3.9035954, 3.957311, 4.0357444, 3.9851183, 3.9493945, 3.7950534, 3.6479693, 3.395549, 3.1443897, 2.8042882, 2.460506]\n"
     ]
    }
   ],
   "source": [
    "minimo_hora = []\n",
    "a = -10\n",
    "b = 0\n",
    "for z in range(0, 240, 10):\n",
    "    a = a + 10\n",
    "    b = b + 10\n",
    "    minimo = 6\n",
    "    for temperatura in dados[a:b]:\n",
    "        if temperatura < minimo:\n",
    "            minimo = temperatura\n",
    "    minimo_hora.append(minimo) \n",
    "print(minimo_hora)"
   ]
  },
  {
   "cell_type": "code",
   "execution_count": 67,
   "metadata": {
    "collapsed": false
   },
   "outputs": [
    {
     "name": "stdout",
     "output_type": "stream",
     "text": [
      "[0.24524000100000007, 0.7538229956, 1.25266842, 1.7361839509999997, 2.19915446, 2.6368249399999995, 3.0449581, 3.4198659899999995, 3.7584158100000002, 4.05801226, 4.31656083, 4.5324171699999996, 4.704328540000001, 4.83137451, 4.912912540000001, 4.948534479999999, 4.93803825, 4.88141768, 4.7788713000000005, 4.6308297099999995, 4.4379985699999995, 4.20141309, 3.92249878, 3.6031320300000003]\n"
     ]
    },
    {
     "data": {
      "text/plain": [
       "<matplotlib.legend.Legend at 0x7b96da0>"
      ]
     },
     "execution_count": 67,
     "metadata": {},
     "output_type": "execute_result"
    },
    {
     "data": {
      "image/png": "[encoded data removed]",
      "text/plain": [
       "<matplotlib.figure.Figure at 0x5bb7fd0>"
      ]
     },
     "metadata": {},
     "output_type": "display_data"
    }
   ],
   "source": [
    "media_hora = []\n",
    "a = -10\n",
    "b = 0\n",
    "for l in range(0, 240, 10):\n",
    "    a = a + 10\n",
    "    b = b + 10\n",
    "    md = 0\n",
    "    for u in dados[a:b]:\n",
    "        md = md + u\n",
    "        mdhora = md/10\n",
    "    media_hora.append(mdhora)\n",
    "print(media_hora)\n",
    "\n",
    "horas = range(0, 24)\n",
    "plt.figure()\n",
    "plt.plot(tempo, dados, '-k', label = \"Dados\")\n",
    "plt.plot(horas, media_hora, 'ok', label = \"Media por hora\")\n",
    "plt.plot(horas, maximo_hora, 'or', label = \"Máximo por hora\")\n",
    "plt.plot(horas, minimo_hora, 'ob', label = \"Minimo por hora\")\n",
    "plt.xlabel('Hora')\n",
    "plt.ylabel('Temperatura')\n",
    "plt.legend(loc='lower right', shadow=True, fontsize='x-large')"
   ]
  },
  {
   "cell_type": "markdown",
   "metadata": {},
   "source": [
    "### Resultado esperado\n",
    "\n",
    "A figura gerada deve ser parecida com:\n",
    "\n",
    "![images/media-maximo-minimo-por-hora.png](images/media-maximo-minimo-por-hora.png)"
   ]
  },
  {
   "cell_type": "code",
   "execution_count": null,
   "metadata": {
    "collapsed": true
   },
   "outputs": [],
   "source": []
  },
  {
   "cell_type": "code",
   "execution_count": null,
   "metadata": {
    "collapsed": true
   },
   "outputs": [],
   "source": []
  },
  {
   "cell_type": "code",
   "execution_count": null,
   "metadata": {
    "collapsed": true
   },
   "outputs": [],
   "source": []
  }
 ],
 "metadata": {
  "kernelspec": {
   "display_name": "Python 3",
   "language": "python",
   "name": "python3"
  },
  "language_info": {
   "codemirror_mode": {
    "name": "ipython",
    "version": 3
   },
   "file_extension": ".py",
   "mimetype": "text/x-python",
   "name": "python",
   "nbconvert_exporter": "python",
   "pygments_lexer": "ipython3",
   "version": "3.4.3"
  }
 },
 "nbformat": 4,
 "nbformat_minor": 0
}
