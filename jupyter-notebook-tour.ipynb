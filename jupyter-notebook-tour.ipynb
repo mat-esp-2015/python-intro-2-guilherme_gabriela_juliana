{
 "cells": [
  {
   "cell_type": "markdown",
   "metadata": {},
   "source": [
    "**Course website**: http://www.leouieda.com/matematica-especial\n",
    "\n",
    "**Note**: This notebook is part of the course \"Matemática Especial I\" of the [Universidade do Estado do Rio de Janeiro](http://www.uerj.br/). All content can be freely used and adapted under the terms of the \n",
    "[Creative Commons Attribution 4.0 International License](http://creativecommons.org/licenses/by/4.0/).\n",
    "\n",
    "![Creative Commons License](https://i.creativecommons.org/l/by/4.0/88x31.png)"
   ]
  },
  {
   "cell_type": "markdown",
   "metadata": {},
   "source": [
    "# Um tour guiado do Jupyter notebook\n",
    "\n",
    "Esse documento que você está usando é um [Jupyter notebook](http://jupyter.org/). É um documento interativo que mistura texto (como esse), código (como abaixo), e o resultado de executar o código (números, texto, figuras, videos, audio, etc).\n",
    "\n",
    "O notebook é uma ferramenta ideal para fazer análise de dados. Texto com links, fórmulas e figuras podem acompanhar o código da análise para descrever a teoria. As figuras geradas pelo cógido aparecem logo abaixo, deixando claro qual parte do programa gerou cada figura.\n",
    "\n",
    "Além disso, o notebook nos permite explorar. Cada célula de código pode ser executada de maneira independente e em qualquer ordem.\n",
    "\n",
    "Por exemplo, rode a célula baixo para criar uma variável `temperatura` e dar um valor a ela (clique na célula e aperte `Shift + Enter` para executar)."
   ]
  },
  {
   "cell_type": "code",
   "execution_count": 20,
   "metadata": {
    "collapsed": true
   },
   "outputs": [],
   "source": [
    "temperatura = 123"
   ]
  },
  {
   "cell_type": "markdown",
   "metadata": {},
   "source": [
    "O número `In [1]:` que aparece ao lado da célula marca a ordem na qual as células foram executadas. `[1]` significa que a célula acima foi a primeira.\n",
    "\n",
    "Rode a célula abaixo para imprimir o valor de `temperatura`."
   ]
  },
  {
   "cell_type": "code",
   "execution_count": 21,
   "metadata": {
    "collapsed": false
   },
   "outputs": [
    {
     "name": "stdout",
     "output_type": "stream",
     "text": [
      "123\n"
     ]
    }
   ],
   "source": [
    "print(temperatura)"
   ]
  },
  {
   "cell_type": "markdown",
   "metadata": {},
   "source": [
    "As células podem ser executadas em qualquer ordem. Por exemplo, rode a célula abaixo para alterar o valor de `temperatura` e depois rode a célula acima novamente. Repare na ordem dos números das células."
   ]
  },
  {
   "cell_type": "code",
   "execution_count": 18,
   "metadata": {
    "collapsed": false
   },
   "outputs": [],
   "source": [
    "temperatura = 12"
   ]
  },
  {
   "cell_type": "markdown",
   "metadata": {},
   "source": [
    "Todo cógido Python que você apredeu até agora é válido no notebook."
   ]
  },
  {
   "cell_type": "markdown",
   "metadata": {},
   "source": [
    "Você pode também criar células de texto selecionando a opção \"Markdown\" no menu do topo da página (onde provavelmente está escrito \"Code\"). Clique em \"Help\" -> \"Markdown\" para ver as opções de formatação que o Jupyter premite. Clique em alguma célula de texto (como essa) para ver o código Markdown do texto. Para voltar ao normal, execute a célula com \"Shift + Enter\"."
   ]
  },
  {
   "cell_type": "markdown",
   "metadata": {},
   "source": [
    "Como exemplo, vamos criar uma lista com valores em ordem aleatória para mostrar nosso algoritmo bubble sort."
   ]
  },
  {
   "cell_type": "code",
   "execution_count": 22,
   "metadata": {
    "collapsed": false
   },
   "outputs": [
    {
     "name": "stdout",
     "output_type": "stream",
     "text": [
      "Lista original: [0, 1, 2, 3, 4, 5, 6, 7, 8, 9, 10, 11, 12, 13, 14, 15, 16, 17, 18, 19, 20, 21, 22, 23, 24, 25, 26, 27, 28, 29, 30, 31, 32, 33, 34, 35, 36, 37, 38, 39, 40, 41, 42, 43, 44, 45, 46, 47, 48, 49, 50, 51, 52, 53, 54, 55, 56, 57, 58, 59, 60, 61, 62, 63, 64, 65, 66, 67, 68, 69, 70, 71, 72, 73, 74, 75, 76, 77, 78, 79]\n"
     ]
    }
   ],
   "source": [
    "lista = list(range(80))\n",
    "print(\"Lista original:\", lista)"
   ]
  },
  {
   "cell_type": "markdown",
   "metadata": {},
   "source": [
    "Vamos utilizar a bibliotera `random` para embaralhar a nossa lista."
   ]
  },
  {
   "cell_type": "code",
   "execution_count": 28,
   "metadata": {
    "collapsed": false
   },
   "outputs": [
    {
     "ename": "SyntaxError",
     "evalue": "invalid syntax (<ipython-input-28-69369586a2d9>, line 1)",
     "output_type": "error",
     "traceback": [
      "\u001b[1;36m  File \u001b[1;32m\"<ipython-input-28-69369586a2d9>\"\u001b[1;36m, line \u001b[1;32m1\u001b[0m\n\u001b[1;33m    import (random)\u001b[0m\n\u001b[1;37m           ^\u001b[0m\n\u001b[1;31mSyntaxError\u001b[0m\u001b[1;31m:\u001b[0m invalid syntax\n"
     ]
    }
   ],
   "source": [
    "import (random)"
   ]
  },
  {
   "cell_type": "code",
   "execution_count": 34,
   "metadata": {
    "collapsed": false
   },
   "outputs": [
    {
     "name": "stdout",
     "output_type": "stream",
     "text": [
      "Lista embaralhada: [37, 78, 28, 65, 29, 52, 68, 12, 67, 36, 6, 31, 15, 9, 57, 8, 61, 79, 62, 41, 4, 47, 72, 58, 20, 43, 14, 49, 70, 25, 64, 74, 22, 35, 10, 30, 27, 26, 40, 23, 77, 50, 75, 21, 24, 34, 55, 7, 46, 5, 63, 39, 48, 56, 59, 42, 13, 3, 45, 71, 16, 51, 0, 32, 11, 33, 44, 66, 53, 19, 54, 18, 1, 2, 73, 60, 17, 69, 76, 38]\n"
     ]
    }
   ],
   "source": [
    "# Embaralhar em inglês é \"shuffle (PS: comentários também são válidos)\n",
    "random.shuffle(lista)\n",
    "print(\"Lista embaralhada:\", lista)"
   ]
  },
  {
   "cell_type": "code",
   "execution_count": 32,
   "metadata": {
    "collapsed": false
   },
   "outputs": [
    {
     "name": "stdout",
     "output_type": "stream",
     "text": [
      "Cinco primeiros numeros: [32, 16, 2, 15, 27]\n"
     ]
    }
   ],
   "source": [
    "print(\"Cinco primeiros numeros:\", lista[0:5])"
   ]
  },
  {
   "cell_type": "markdown",
   "metadata": {},
   "source": [
    "Um jeito fácil de descobrir o número de elementos de uma lista é com a função `len`."
   ]
  },
  {
   "cell_type": "code",
   "execution_count": 35,
   "metadata": {
    "collapsed": false
   },
   "outputs": [
    {
     "name": "stdout",
     "output_type": "stream",
     "text": [
      "80\n"
     ]
    }
   ],
   "source": [
    "N = len(lista)\n",
    "print(N)"
   ]
  },
  {
   "cell_type": "markdown",
   "metadata": {},
   "source": [
    "Antes de organizar a lista, vamos pegar uma cópia para não perder a lista original (bagunçada)."
   ]
  },
  {
   "cell_type": "code",
   "execution_count": 36,
   "metadata": {
    "collapsed": true
   },
   "outputs": [],
   "source": [
    "lista_org = lista.copy()"
   ]
  },
  {
   "cell_type": "markdown",
   "metadata": {},
   "source": [
    "O código abaixo implementa nosso bubble sort para organizar os valores de `lista_org`. Note que o código para fazer as trocas está diferente."
   ]
  },
  {
   "cell_type": "code",
   "execution_count": 54,
   "metadata": {
    "collapsed": false
   },
   "outputs": [],
   "source": [
    "for i in range(N - 1):\n",
    "    for j in range(i + 1, N):\n",
    "        if lista_org[i] > lista_org[j]:\n",
    "            lista_org[i], lista_org[j] = lista_org[j], lista_org[i]"
   ]
  },
  {
   "cell_type": "code",
   "execution_count": null,
   "metadata": {
    "collapsed": false
   },
   "outputs": [],
   "source": [
    "print(\"Organizada:\", lista_org)"
   ]
  },
  {
   "cell_type": "markdown",
   "metadata": {},
   "source": [
    "O notebook tem suporte para gráficos do [matplotlib](http://matplotlib.org/) também."
   ]
  },
  {
   "cell_type": "code",
   "execution_count": 39,
   "metadata": {
    "collapsed": true
   },
   "outputs": [],
   "source": [
    "import matplotlib.pyplot as plt"
   ]
  },
  {
   "cell_type": "markdown",
   "metadata": {},
   "source": [
    "Além disso, o notebook possui \"mágicas\" (sim, elas realmente chamadas de *magics*). As mágicas são coisas específicas do notebook (não do Python). Mágicas começam com `%`. A mágica abaixo diz ao matplotlib para inserir as figuras diretamente no notebook."
   ]
  },
  {
   "cell_type": "code",
   "execution_count": 48,
   "metadata": {
    "collapsed": false
   },
   "outputs": [],
   "source": [
    "%matplotlib inline "
   ]
  },
  {
   "cell_type": "code",
   "execution_count": 55,
   "metadata": {
    "collapsed": false
   },
   "outputs": [
    {
     "data": {
      "text/plain": [
       "<matplotlib.text.Text at 0x6e48240>"
      ]
     },
     "execution_count": 55,
     "metadata": {},
     "output_type": "execute_result"
    },
    {
     "data": {
      "image/png": "[encoded data removed]",
      "text/plain": [
       "<matplotlib.figure.Figure at 0x6cd5a58>"
      ]
     },
     "metadata": {},
     "output_type": "display_data"
    }
   ],
   "source": [
    "plt.figure()\n",
    "plt.plot(range(N), lista, 'ob')\n",
    "plt.plot(range(N), lista_org, 'ok')\n",
    "plt.xlabel('Indice')\n",
    "plt.ylabel('valor')"
   ]
  },
  {
   "cell_type": "markdown",
   "metadata": {},
   "source": [
    "Os resultados (texto, figuras, etc) que são gerados ficam salvos no notebook. Isso quer dizer que cada vez que você executa o notebook, o git verá mudanças no arquivo `.ipynb`. Você deve fazer commits com essas mudanças para que eu veja os resultados do seu código quando entregar as tarefas."
   ]
  }
 ],
 "metadata": {
  "kernelspec": {
   "display_name": "Python 3",
   "language": "python",
   "name": "python3"
  },
  "language_info": {
   "codemirror_mode": {
    "name": "ipython",
    "version": 3
   },
   "file_extension": ".py",
   "mimetype": "text/x-python",
   "name": "python",
   "nbconvert_exporter": "python",
   "pygments_lexer": "ipython3",
   "version": "3.4.3"
  }
 },
 "nbformat": 4,
 "nbformat_minor": 0
}
